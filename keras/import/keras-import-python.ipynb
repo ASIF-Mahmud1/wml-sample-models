{
 "cells": [
  {
   "cell_type": "markdown",
   "metadata": {
    "collapsed": true
   },
   "source": [
    "# Import a Keras model into IBM Watson Machine Learning\n",
    "\n",
    "Importing a model into Watson Machine Learning means to store a trained model in your Watson Machine Learning repository and then deploy the stored model.  This notebook demonstrates importing a Keras model.\n",
    "\n",
    "See also: <a href=\"https://dataplatform.cloud.ibm.com/docs/content/analyze-data/ml-import-keras.html\" target=\"_blank\" rel=\"noopener noreferrer\">Importing a Keras model</a>\n",
    "\n",
    "This notebook runs on Python 3.5.\n",
    "\n",
    "\n",
    "### Notebook sections\n",
    "\n",
    "[Step 0: Build, train, and save a model](#step0)\n",
    "\n",
    "[Step 1: Store the model in your Watson Machine Learning repository](#step1)\n",
    "\n",
    "[Step 2: Deploy the stored modelin your Watson Machine Learning service](#step2)"
   ]
  },
  {
   "cell_type": "markdown",
   "metadata": {},
   "source": [
    "## <a id=\"step0\"></a> Step 0: Build, train, and save a model\n",
    "\n",
    "**About the sample model**\n",
    "\n",
    "The sample model built here classifies text messages from fictional customers into two categories:\n",
    "- \"social\" : The message might just be social and friendly, or the message lacks enough text to perform in-depth analysis\n",
    "- \"problem or question\" : The message describes a prob1em or asks a questions\n",
    "\n",
    "Classifying messages this way is useful for multiple purposes:\n",
    "- Automating responses (eg. respond to social messages with a generial greeting, prompting the user to type their question or problem if they have one)\n",
    "- Cleaning out social message for post-hoc analysis\n",
    "\n",
    "The data used to train the model is the \"sample-customer-messages.csv\" training data in the IBM Watson Studio community: <a href=\"https://dataplatform.cloud.ibm.com/exchange/public/entry/view/015ddef6a868441188268a123404f744\" target=\"_blank\" rel=\"noopener noreferrer\">Customer messages sample data</a>."
   ]
  },
  {
   "cell_type": "markdown",
   "metadata": {},
   "source": [
    "### Get and prepare training data"
   ]
  },
  {
   "cell_type": "code",
   "execution_count": null,
   "metadata": {},
   "outputs": [],
   "source": [
    "!pip install wget # Needed to download sample training data"
   ]
  },
  {
   "cell_type": "code",
   "execution_count": 28,
   "metadata": {},
   "outputs": [
    {
     "name": "stdout",
     "output_type": "stream",
     "text": [
      "sample-customer-messages.csv\n"
     ]
    }
   ],
   "source": [
    "# Download sample training data to the notebook working directory\n",
    "import wget\n",
    "training_data_url = 'https://dataplatform.cloud.ibm.com/data/exchange-api/v1/entries/015ddef6a868441188268a123404f744/data?accessKey=c8d0403d844a82df9ecd264df02f2b07'\n",
    "filename = wget.download( training_data_url )\n",
    "print( filename )"
   ]
  },
  {
   "cell_type": "code",
   "execution_count": 3,
   "metadata": {},
   "outputs": [
    {
     "data": {
      "text/html": [
       "<div>\n",
       "<style scoped>\n",
       "    .dataframe tbody tr th:only-of-type {\n",
       "        vertical-align: middle;\n",
       "    }\n",
       "\n",
       "    .dataframe tbody tr th {\n",
       "        vertical-align: top;\n",
       "    }\n",
       "\n",
       "    .dataframe thead th {\n",
       "        text-align: right;\n",
       "    }\n",
       "</style>\n",
       "<table border=\"1\" class=\"dataframe\">\n",
       "  <thead>\n",
       "    <tr style=\"text-align: right;\">\n",
       "      <th></th>\n",
       "      <th>message</th>\n",
       "      <th>class_name</th>\n",
       "    </tr>\n",
       "  </thead>\n",
       "  <tbody>\n",
       "    <tr>\n",
       "      <th>6</th>\n",
       "      <td>Greetings :)</td>\n",
       "      <td>hi</td>\n",
       "    </tr>\n",
       "    <tr>\n",
       "      <th>7</th>\n",
       "      <td>hai how can i do analyze with csv file is ther...</td>\n",
       "      <td>question</td>\n",
       "    </tr>\n",
       "    <tr>\n",
       "      <th>8</th>\n",
       "      <td>Having issues setup WML service</td>\n",
       "      <td>problem</td>\n",
       "    </tr>\n",
       "  </tbody>\n",
       "</table>\n",
       "</div>"
      ],
      "text/plain": [
       "                                             message class_name\n",
       "6                                       Greetings :)         hi\n",
       "7  hai how can i do analyze with csv file is ther...   question\n",
       "8                    Having issues setup WML service    problem"
      ]
     },
     "execution_count": 3,
     "metadata": {},
     "output_type": "execute_result"
    }
   ],
   "source": [
    "# Read sample data into Pandas DataFrame\n",
    "import pandas as pd\n",
    "df = pd.read_csv( filename, names=[ \"message\", \"class_name\" ] )\n",
    "df[6:9]"
   ]
  },
  {
   "cell_type": "code",
   "execution_count": 7,
   "metadata": {},
   "outputs": [
    {
     "data": {
      "text/html": [
       "<div>\n",
       "<style scoped>\n",
       "    .dataframe tbody tr th:only-of-type {\n",
       "        vertical-align: middle;\n",
       "    }\n",
       "\n",
       "    .dataframe tbody tr th {\n",
       "        vertical-align: top;\n",
       "    }\n",
       "\n",
       "    .dataframe thead th {\n",
       "        text-align: right;\n",
       "    }\n",
       "</style>\n",
       "<table border=\"1\" class=\"dataframe\">\n",
       "  <thead>\n",
       "    <tr style=\"text-align: right;\">\n",
       "      <th></th>\n",
       "      <th>message</th>\n",
       "      <th>class_name</th>\n",
       "    </tr>\n",
       "  </thead>\n",
       "  <tbody>\n",
       "    <tr>\n",
       "      <th>62</th>\n",
       "      <td>Hi is any way to download my files in data ass...</td>\n",
       "      <td>question</td>\n",
       "    </tr>\n",
       "    <tr>\n",
       "      <th>30</th>\n",
       "      <td>hey there</td>\n",
       "      <td>hi</td>\n",
       "    </tr>\n",
       "    <tr>\n",
       "      <th>37</th>\n",
       "      <td>hi</td>\n",
       "      <td>hi</td>\n",
       "    </tr>\n",
       "    <tr>\n",
       "      <th>14</th>\n",
       "      <td>hello how can i download a csv file from my no...</td>\n",
       "      <td>question</td>\n",
       "    </tr>\n",
       "    <tr>\n",
       "      <th>58</th>\n",
       "      <td>Hi I would like to signup for a trail but I am...</td>\n",
       "      <td>problem</td>\n",
       "    </tr>\n",
       "    <tr>\n",
       "      <th>67</th>\n",
       "      <td>Hi not able to signup</td>\n",
       "      <td>problem</td>\n",
       "    </tr>\n",
       "    <tr>\n",
       "      <th>90</th>\n",
       "      <td>I keep getting a Failed creating account error</td>\n",
       "      <td>problem</td>\n",
       "    </tr>\n",
       "    <tr>\n",
       "      <th>40</th>\n",
       "      <td>Hi can you help</td>\n",
       "      <td>hi</td>\n",
       "    </tr>\n",
       "    <tr>\n",
       "      <th>9</th>\n",
       "      <td>Hello</td>\n",
       "      <td>hi</td>\n",
       "    </tr>\n",
       "    <tr>\n",
       "      <th>41</th>\n",
       "      <td>Hi can you helpme</td>\n",
       "      <td>hi</td>\n",
       "    </tr>\n",
       "  </tbody>\n",
       "</table>\n",
       "</div>"
      ],
      "text/plain": [
       "                                              message class_name\n",
       "62  Hi is any way to download my files in data ass...   question\n",
       "30                                          hey there         hi\n",
       "37                                                 hi         hi\n",
       "14  hello how can i download a csv file from my no...   question\n",
       "58  Hi I would like to signup for a trail but I am...    problem\n",
       "67                              Hi not able to signup    problem\n",
       "90     I keep getting a Failed creating account error    problem\n",
       "40                                    Hi can you help         hi\n",
       "9                                               Hello         hi\n",
       "41                                  Hi can you helpme         hi"
      ]
     },
     "execution_count": 7,
     "metadata": {},
     "output_type": "execute_result"
    }
   ],
   "source": [
    "# Split the data into training and test sets\n",
    "# https://scikit-learn.org/stable/modules/generated/sklearn.model_selection.train_test_split.html\n",
    "from sklearn.model_selection import train_test_split\n",
    "train, test = train_test_split( df, test_size = 0.1 )\n",
    "test"
   ]
  },
  {
   "cell_type": "code",
   "execution_count": 9,
   "metadata": {},
   "outputs": [
    {
     "data": {
      "text/plain": [
       "[[3, 22, 47, 1, 226, 6, 120, 18, 17, 1, 6, 53],\n",
       " [177, 27],\n",
       " [3],\n",
       " [7, 5, 8, 2, 226, 4, 35, 32, 25, 6, 9]]"
      ]
     },
     "execution_count": 9,
     "metadata": {},
     "output_type": "execute_result"
    }
   ],
   "source": [
    "# Convert words to numbers\n",
    "# https://keras.io/preprocessing/text/#tokenizer\n",
    "from keras.preprocessing.text import Tokenizer\n",
    "t = Tokenizer()\n",
    "t.fit_on_texts( train[\"message\"] )\n",
    "X_train = t.texts_to_sequences( train[\"message\"] )\n",
    "X_test  = t.texts_to_sequences( test[\"message\"] )\n",
    "X_test[0:4]"
   ]
  },
  {
   "cell_type": "code",
   "execution_count": 10,
   "metadata": {},
   "outputs": [
    {
     "data": {
      "text/plain": [
       "array([  3,  22,  47,   1, 226,   6, 120,  18,  17,   1,   6,  53,   0,\n",
       "         0,   0,   0,   0,   0,   0,   0,   0,   0,   0,   0,   0,   0,\n",
       "         0,   0,   0,   0,   0], dtype=int32)"
      ]
     },
     "execution_count": 10,
     "metadata": {},
     "output_type": "execute_result"
    }
   ],
   "source": [
    "# Pad the shorter entries\n",
    "# https://keras.io/preprocessing/sequence/#pad_sequences\n",
    "from keras.preprocessing.sequence import pad_sequences\n",
    "max_len = max( len(x) for x in X_train )\n",
    "X_train = pad_sequences( X_train, padding='post', maxlen=max_len )\n",
    "X_test  = pad_sequences( X_test,  padding='post', maxlen=max_len )\n",
    "X_test[0]"
   ]
  },
  {
   "cell_type": "code",
   "execution_count": 11,
   "metadata": {},
   "outputs": [
    {
     "data": {
      "text/plain": [
       "array([[0, 1],\n",
       "       [1, 0],\n",
       "       [1, 0],\n",
       "       [0, 1],\n",
       "       [0, 1],\n",
       "       [0, 1],\n",
       "       [0, 1],\n",
       "       [1, 0],\n",
       "       [1, 0],\n",
       "       [1, 0]])"
      ]
     },
     "execution_count": 11,
     "metadata": {},
     "output_type": "execute_result"
    }
   ],
   "source": [
    "# Convert the labels to binary labels\n",
    "import scipy\n",
    "import numpy as np\n",
    "y_train = np.array( [ [ 1, 0 ] if class_name == \"hi\" else [ 0, 1 ] for class_name in train[ \"class_name\" ] ] )\n",
    "y_test  = np.array( [ [ 1, 0 ] if class_name == \"hi\" else [ 0, 1 ] for class_name in test[ \"class_name\" ] ] )\n",
    "y_test"
   ]
  },
  {
   "cell_type": "markdown",
   "metadata": {},
   "source": [
    "### Build a neural network"
   ]
  },
  {
   "cell_type": "code",
   "execution_count": 13,
   "metadata": {},
   "outputs": [],
   "source": [
    "# Create a simple sequential model\n",
    "# https://keras.io/models/sequential\n",
    "\n",
    "from keras.models import Sequential\n",
    "from keras import layers\n",
    "\n",
    "vocab_size    = len( t.word_counts ) + 1\n",
    "embedding_dim = 50\n",
    "num_classes   = 2\n",
    "\n",
    "model = Sequential()\n",
    "model.add( layers.Embedding( input_dim    = vocab_size,        # https://keras.io/layers/embeddings\n",
    "                             output_dim   = embedding_dim, \n",
    "                             input_length = max_len,\n",
    "                             trainable    = True ) )\n",
    "model.add( layers.Flatten() )                                  # https://keras.io/layers/core/#flatten\n",
    "model.add( layers.Dense( num_classes, activation='sigmoid' ) ) # https://keras.io/layers/core/#dense\n",
    "model.add( layers.Activation( \"softmax\" ) )                    # https://en.wikipedia.org/wiki/Softmax_function\n",
    "\n",
    "model.compile( optimizer = \"adam\",                # https://www.dlology.com/blog/quick-notes-on-how-to-choose-optimizer-in-keras\n",
    "               loss      = \"binary_crossentropy\", # https://www.dlology.com/blog/how-to-choose-last-layer-activation-and-loss-function\n",
    "               metrics   = [ \"accuracy\" ] )"
   ]
  },
  {
   "cell_type": "markdown",
   "metadata": {},
   "source": [
    "### Train and evaluate model"
   ]
  },
  {
   "cell_type": "code",
   "execution_count": 14,
   "metadata": {},
   "outputs": [],
   "source": [
    "num_epochs = 15\n",
    "\n",
    "history = model.fit( X_train, y_train,\n",
    "                     batch_size = 10,\n",
    "                     epochs     = num_epochs,\n",
    "                     verbose    = False,\n",
    "                     validation_split = 0.1 )"
   ]
  },
  {
   "cell_type": "code",
   "execution_count": 19,
   "metadata": {},
   "outputs": [
    {
     "data": {
      "image/png": "[encoded data removed]",
      "text/plain": [
       "<matplotlib.figure.Figure at 0x7fb7102c0a58>"
      ]
     },
     "metadata": {},
     "output_type": "display_data"
    }
   ],
   "source": [
    "import matplotlib.pyplot as plt\n",
    "plt.style.use( \"seaborn-white\" )\n",
    "\n",
    "plt.title(  \"Accuracy\", fontsize = 18)\n",
    "\n",
    "x = range( 1, num_epochs + 1 )\n",
    "plt.plot( x, history.history[ \"acc\" ],     label = \"Training\"   )\n",
    "plt.plot( x, history.history[ \"val_acc\" ], label = \"Validation\" )\n",
    "\n",
    "legend = plt.legend( loc=\"upper left\" )"
   ]
  },
  {
   "cell_type": "code",
   "execution_count": 20,
   "metadata": {},
   "outputs": [
    {
     "data": {
      "text/html": [
       "<div>\n",
       "<style scoped>\n",
       "    .dataframe tbody tr th:only-of-type {\n",
       "        vertical-align: middle;\n",
       "    }\n",
       "\n",
       "    .dataframe tbody tr th {\n",
       "        vertical-align: top;\n",
       "    }\n",
       "\n",
       "    .dataframe thead th {\n",
       "        text-align: right;\n",
       "    }\n",
       "</style>\n",
       "<table border=\"1\" class=\"dataframe\">\n",
       "  <thead>\n",
       "    <tr style=\"text-align: right;\">\n",
       "      <th></th>\n",
       "      <th>message</th>\n",
       "      <th>class_name</th>\n",
       "    </tr>\n",
       "  </thead>\n",
       "  <tbody>\n",
       "    <tr>\n",
       "      <th>62</th>\n",
       "      <td>Hi is any way to download my files in data ass...</td>\n",
       "      <td>question</td>\n",
       "    </tr>\n",
       "    <tr>\n",
       "      <th>30</th>\n",
       "      <td>hey there</td>\n",
       "      <td>hi</td>\n",
       "    </tr>\n",
       "    <tr>\n",
       "      <th>37</th>\n",
       "      <td>hi</td>\n",
       "      <td>hi</td>\n",
       "    </tr>\n",
       "    <tr>\n",
       "      <th>14</th>\n",
       "      <td>hello how can i download a csv file from my no...</td>\n",
       "      <td>question</td>\n",
       "    </tr>\n",
       "    <tr>\n",
       "      <th>58</th>\n",
       "      <td>Hi I would like to signup for a trail but I am...</td>\n",
       "      <td>problem</td>\n",
       "    </tr>\n",
       "    <tr>\n",
       "      <th>67</th>\n",
       "      <td>Hi not able to signup</td>\n",
       "      <td>problem</td>\n",
       "    </tr>\n",
       "    <tr>\n",
       "      <th>90</th>\n",
       "      <td>I keep getting a Failed creating account error</td>\n",
       "      <td>problem</td>\n",
       "    </tr>\n",
       "    <tr>\n",
       "      <th>40</th>\n",
       "      <td>Hi can you help</td>\n",
       "      <td>hi</td>\n",
       "    </tr>\n",
       "    <tr>\n",
       "      <th>9</th>\n",
       "      <td>Hello</td>\n",
       "      <td>hi</td>\n",
       "    </tr>\n",
       "    <tr>\n",
       "      <th>41</th>\n",
       "      <td>Hi can you helpme</td>\n",
       "      <td>hi</td>\n",
       "    </tr>\n",
       "  </tbody>\n",
       "</table>\n",
       "</div>"
      ],
      "text/plain": [
       "                                              message class_name\n",
       "62  Hi is any way to download my files in data ass...   question\n",
       "30                                          hey there         hi\n",
       "37                                                 hi         hi\n",
       "14  hello how can i download a csv file from my no...   question\n",
       "58  Hi I would like to signup for a trail but I am...    problem\n",
       "67                              Hi not able to signup    problem\n",
       "90     I keep getting a Failed creating account error    problem\n",
       "40                                    Hi can you help         hi\n",
       "9                                               Hello         hi\n",
       "41                                  Hi can you helpme         hi"
      ]
     },
     "execution_count": 20,
     "metadata": {},
     "output_type": "execute_result"
    }
   ],
   "source": [
    "test"
   ]
  },
  {
   "cell_type": "code",
   "execution_count": 21,
   "metadata": {},
   "outputs": [
    {
     "name": "stdout",
     "output_type": "stream",
     "text": [
      "[1 0 0 1 1 0 1 0 0 0]\n"
     ]
    }
   ],
   "source": [
    "test_results = model.predict_classes( X_test )\n",
    "print( test_results )"
   ]
  },
  {
   "cell_type": "markdown",
   "metadata": {},
   "source": [
    "### Save the model in a .tgz file"
   ]
  },
  {
   "cell_type": "code",
   "execution_count": 22,
   "metadata": {},
   "outputs": [],
   "source": [
    "# https://keras.io/getting-started/faq/#how-can-i-save-a-keras-model\n",
    "model.save( \"message-classification-model.h5\" )"
   ]
  },
  {
   "cell_type": "code",
   "execution_count": 23,
   "metadata": {},
   "outputs": [
    {
     "name": "stdout",
     "output_type": "stream",
     "text": [
      "message-classification-model.h5\r\n"
     ]
    }
   ],
   "source": [
    "!tar -zcvf message-classification-model.tgz message-classification-model.h5"
   ]
  },
  {
   "cell_type": "code",
   "execution_count": 29,
   "metadata": {},
   "outputs": [
    {
     "name": "stdout",
     "output_type": "stream",
     "text": [
      "total 428\r\n",
      "-rw-r----- 1 dsxuser dsxuser 236328 Mar  9 16:40 message-classification-model.h5\r\n",
      "-rw-r----- 1 dsxuser dsxuser 192416 Mar  9 16:40 message-classification-model.tgz\r\n",
      "-rw-r----- 1 dsxuser dsxuser   5781 Mar  9 16:41 sample-customer-messages.csv\r\n"
     ]
    }
   ],
   "source": [
    "!ls -l"
   ]
  },
  {
   "cell_type": "markdown",
   "metadata": {},
   "source": [
    "## <a id=\"step1\"></a> Step 1: Store the model in your Watson Machine Learning repository\n",
    "\n",
    "This section of the notebook demonstrates calling the <a href=\"https://wml-api-pyclient.mybluemix.net/index.html?highlight=store_model#client.Repository.store_model\" target=\"_blank\" rel=\"noopener noreferrer\">store_model</a> function"
   ]
  },
  {
   "cell_type": "markdown",
   "metadata": {},
   "source": [
    "Paste your Watson Machine Learning credentials in the following cell.\n",
    "\n",
    "See: <a href=\"https://dataplatform.cloud.ibm.com/docs/content/analyze-data/ml-get-wml-credentials.html\" target=\"_blank\" rel=\"noopener noreferrer\">Looking up credentials</a>"
   ]
  },
  {
   "cell_type": "code",
   "execution_count": null,
   "metadata": {},
   "outputs": [],
   "source": [
    "# Create a Watson Machine Learning client instance\n",
    "from watson_machine_learning_client import WatsonMachineLearningAPIClient\n",
    "wml_credentials = {\n",
    "    \"instance_id\": \"\",\n",
    "    \"password\": \"\",\n",
    "    \"url\": \"\",\n",
    "    \"username\": \"\"\n",
    "}\n",
    "client = WatsonMachineLearningAPIClient( wml_credentials )"
   ]
  },
  {
   "cell_type": "code",
   "execution_count": 31,
   "metadata": {},
   "outputs": [],
   "source": [
    "metadata = {\n",
    "    client.repository.ModelMetaNames.NAME: \"keras model\",\n",
    "    client.repository.ModelMetaNames.FRAMEWORK_NAME: \"tensorflow\",\n",
    "    client.repository.ModelMetaNames.FRAMEWORK_VERSION: \"1.5\"\n",
    "}\n",
    "model_details = client.repository.store_model( model=\"message-classification-model.tgz\", meta_props=metadata )"
   ]
  },
  {
   "cell_type": "markdown",
   "metadata": {},
   "source": [
    "## <a id=\"step2\"></a> Step 2: Deploy the stored the model in your Watson Machine Learning service\n",
    "\n",
    "This section of the notebook demonstrates calling the <a href=\"https://wml-api-pyclient.mybluemix.net/index.html?highlight=deploy#client.Deployments.create\" target=\"_blank\" rel=\"noopener noreferrer\">deployments.create</a> function"
   ]
  },
  {
   "cell_type": "code",
   "execution_count": 32,
   "metadata": {},
   "outputs": [
    {
     "name": "stdout",
     "output_type": "stream",
     "text": [
      "\n",
      "\n",
      "#######################################################################################\n",
      "\n",
      "Synchronous deployment creation for uid: 'b5fa7d98-5ac4-41cc-8f45-45590c2d3d18' started\n",
      "\n",
      "#######################################################################################\n",
      "\n",
      "\n",
      "INITIALIZING\n",
      "DEPLOY_IN_PROGRESS\n",
      "DEPLOY_SUCCESS\n",
      "\n",
      "\n",
      "------------------------------------------------------------------------------------------------\n",
      "Successfully finished deployment creation, deployment_uid='20e80efd-d4de-4d16-8c80-328a78c4f4cd'\n",
      "------------------------------------------------------------------------------------------------\n",
      "\n",
      "\n"
     ]
    }
   ],
   "source": [
    "# Deploy the stored model as an online web service deployment\n",
    "model_id = model_details[\"metadata\"][\"guid\"]\n",
    "deployment_details = client.deployments.create( artifact_uid=model_id, name=\"Keras deployment\" )"
   ]
  },
  {
   "cell_type": "code",
   "execution_count": 33,
   "metadata": {},
   "outputs": [
    {
     "data": {
      "text/plain": [
       "{'fields': ['prediction', 'prediction_classes', 'probability'],\n",
       " 'values': [[[0.27575016021728516, 0.7242498397827148],\n",
       "   1,\n",
       "   [0.27575016021728516, 0.7242498397827148]],\n",
       "  [[0.6615995764732361, 0.3384004533290863],\n",
       "   0,\n",
       "   [0.6615995764732361, 0.3384004533290863]],\n",
       "  [[0.688529372215271, 0.3114706575870514],\n",
       "   0,\n",
       "   [0.688529372215271, 0.3114706575870514]],\n",
       "  [[0.2758835256099701, 0.7241165041923523],\n",
       "   1,\n",
       "   [0.2758835256099701, 0.7241165041923523]],\n",
       "  [[0.2740103602409363, 0.725989580154419],\n",
       "   1,\n",
       "   [0.2740103602409363, 0.725989580154419]],\n",
       "  [[0.5268354415893555, 0.4731645882129669],\n",
       "   0,\n",
       "   [0.5268354415893555, 0.4731645882129669]],\n",
       "  [[0.3066408634185791, 0.6933591365814209],\n",
       "   1,\n",
       "   [0.3066408634185791, 0.6933591365814209]],\n",
       "  [[0.5368264317512512, 0.463173508644104],\n",
       "   0,\n",
       "   [0.5368264317512512, 0.463173508644104]],\n",
       "  [[0.6960311532020569, 0.30396878719329834],\n",
       "   0,\n",
       "   [0.6960311532020569, 0.30396878719329834]],\n",
       "  [[0.6039940118789673, 0.3960059583187103],\n",
       "   0,\n",
       "   [0.6039940118789673, 0.3960059583187103]]]}"
      ]
     },
     "execution_count": 33,
     "metadata": {},
     "output_type": "execute_result"
    }
   ],
   "source": [
    "# Test the deployment\n",
    "model_endpoint_url = client.deployments.get_scoring_url( deployment_details )\n",
    "payload = { \"values\" : X_test.tolist() }\n",
    "client.deployments.score( model_endpoint_url, payload )"
   ]
  },
  {
   "cell_type": "code",
   "execution_count": null,
   "metadata": {},
   "outputs": [],
   "source": []
  },
  {
   "cell_type": "markdown",
   "metadata": {},
   "source": [
    "## Summary\n",
    "In this notebook, you imported a scikit-learn Pipeline into Watson Machine Learning using the Watson Machine Learning Python client."
   ]
  },
  {
   "cell_type": "markdown",
   "metadata": {},
   "source": [
    "### <a id=\"authors\"></a>Authors\n",
    "\n",
    "**Sarah Packowski** is a member of the IBM Watson Studio Content Design team in Canada."
   ]
  },
  {
   "cell_type": "markdown",
   "metadata": {},
   "source": [
    "\n",
    "<hr>\n",
    "Copyright &copy; IBM Corp. 2019. This notebook and its source code are released under the terms of the MIT License."
   ]
  },
  {
   "cell_type": "markdown",
   "metadata": {},
   "source": [
    "<div style=\"background:#F5F7FA; height:110px; padding: 2em; font-size:14px;\">\n",
    "<span style=\"font-size:18px;color:#152935;\">Love this notebook? </span>\n",
    "<span style=\"font-size:15px;color:#152935;float:right;margin-right:40px;\">Don't have an account yet?</span><br>\n",
    "<span style=\"color:#5A6872;\">Share it with your colleagues and help them discover the power of Watson Studio!</span>\n",
    "<span style=\"border: 1px solid #3d70b2;padding:8px;float:right;margin-right:40px; color:#3d70b2;\"><a href=\"https://ibm.co/wsnotebooks\" target=\"_blank\" style=\"color: #3d70b2;text-decoration: none;\">Sign Up</a></span><br>\n",
    "</div>"
   ]
  }
 ],
 "metadata": {
  "kernelspec": {
   "display_name": "Python 3.5",
   "language": "python",
   "name": "python3"
  },
  "language_info": {
   "codemirror_mode": {
    "name": "ipython",
    "version": 3
   },
   "file_extension": ".py",
   "mimetype": "text/x-python",
   "name": "python",
   "nbconvert_exporter": "python",
   "pygments_lexer": "ipython3",
   "version": "3.5.5"
  }
 },
 "nbformat": 4,
 "nbformat_minor": 1
}
