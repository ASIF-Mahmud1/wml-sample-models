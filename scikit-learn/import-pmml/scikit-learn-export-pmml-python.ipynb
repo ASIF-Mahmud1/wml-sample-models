{
 "cells": [
  {
   "cell_type": "markdown",
   "metadata": {
    "collapsed": true
   },
   "source": [
    "# Save a scikit-learn model in PMML format\n",
    "\n",
    "This notebook demonstrates saving a trained scikit-learn model in PMML format.\n",
    "\n",
    "This notebook runs on Python 3.5.\n",
    "\n",
    "\n",
    "## Notebook sections\n",
    "\n",
    "1. [Load and prepare training data](#loadata)\n",
    "2. [Train and evaluate model](#trainmodel)\n",
    "3. [Save model in PMML format](#savemodel)\n",
    "\n",
    "\n",
    "\n",
    "**About the sample model**\n",
    "\n",
    "The sample model built here is a logistic regression model for predicting whether or not a customer will purchase a tent from a fictional outdoor equipment store, based on the customer charateristics.\n",
    "\n",
    "The data used to train the model is the \"GoSales.csv\" training data in the IBM Watson Studio community: <a href=\"https://dataplatform.cloud.ibm.com/exchange/public/entry/view/aa07a773f71cf1172a349f33e2028e4e\" target=\"_blank\" rel=\"noopener noreferrer\">GoSales sample data</a>."
   ]
  },
  {
   "cell_type": "markdown",
   "metadata": {},
   "source": [
    "### <a id=\"loaddata\"></a> 1. Load and prepare sample training data"
   ]
  },
  {
   "cell_type": "code",
   "execution_count": 2,
   "metadata": {},
   "outputs": [],
   "source": [
    "!pip install wget"
   ]
  },
  {
   "cell_type": "code",
   "execution_count": 3,
   "metadata": {},
   "outputs": [
    {
     "name": "stdout",
     "output_type": "stream",
     "text": [
      "GoSales.csv\n"
     ]
    }
   ],
   "source": [
    "# Download sample training data to notebook working directory\n",
    "import wget\n",
    "training_data_url = 'https://dataplatform.cloud.ibm.com/data/exchange-api/v1/entries/aa07a773f71cf1172a349f33e2028e4e/data?accessKey=e98b7315f84e5448aa94c633ca66ea83'\n",
    "filename = wget.download( training_data_url )\n",
    "print( filename )"
   ]
  },
  {
   "cell_type": "code",
   "execution_count": 4,
   "metadata": {},
   "outputs": [
    {
     "data": {
      "text/html": [
       "<div>\n",
       "<style scoped>\n",
       "    .dataframe tbody tr th:only-of-type {\n",
       "        vertical-align: middle;\n",
       "    }\n",
       "\n",
       "    .dataframe tbody tr th {\n",
       "        vertical-align: top;\n",
       "    }\n",
       "\n",
       "    .dataframe thead th {\n",
       "        text-align: right;\n",
       "    }\n",
       "</style>\n",
       "<table border=\"1\" class=\"dataframe\">\n",
       "  <thead>\n",
       "    <tr style=\"text-align: right;\">\n",
       "      <th></th>\n",
       "      <th>GENDER</th>\n",
       "      <th>AGE</th>\n",
       "      <th>MARITAL_STATUS</th>\n",
       "      <th>PROFESSION</th>\n",
       "      <th>IS_TENT</th>\n",
       "      <th>PRODUCT_LINE</th>\n",
       "      <th>PURCHASE_AMOUNT</th>\n",
       "    </tr>\n",
       "  </thead>\n",
       "  <tbody>\n",
       "    <tr>\n",
       "      <th>0</th>\n",
       "      <td>M</td>\n",
       "      <td>27</td>\n",
       "      <td>Single</td>\n",
       "      <td>Professional</td>\n",
       "      <td>True</td>\n",
       "      <td>Camping Equipment</td>\n",
       "      <td>144.78</td>\n",
       "    </tr>\n",
       "    <tr>\n",
       "      <th>1</th>\n",
       "      <td>F</td>\n",
       "      <td>39</td>\n",
       "      <td>Married</td>\n",
       "      <td>Other</td>\n",
       "      <td>False</td>\n",
       "      <td>Outdoor Protection</td>\n",
       "      <td>144.83</td>\n",
       "    </tr>\n",
       "    <tr>\n",
       "      <th>2</th>\n",
       "      <td>F</td>\n",
       "      <td>39</td>\n",
       "      <td>Married</td>\n",
       "      <td>Other</td>\n",
       "      <td>False</td>\n",
       "      <td>Outdoor Protection</td>\n",
       "      <td>137.37</td>\n",
       "    </tr>\n",
       "    <tr>\n",
       "      <th>3</th>\n",
       "      <td>F</td>\n",
       "      <td>56</td>\n",
       "      <td>Unspecified</td>\n",
       "      <td>Hospitality</td>\n",
       "      <td>False</td>\n",
       "      <td>Personal Accessories</td>\n",
       "      <td>92.61</td>\n",
       "    </tr>\n",
       "    <tr>\n",
       "      <th>4</th>\n",
       "      <td>M</td>\n",
       "      <td>45</td>\n",
       "      <td>Married</td>\n",
       "      <td>Retired</td>\n",
       "      <td>False</td>\n",
       "      <td>Golf Equipment</td>\n",
       "      <td>119.04</td>\n",
       "    </tr>\n",
       "  </tbody>\n",
       "</table>\n",
       "</div>"
      ],
      "text/plain": [
       "  GENDER  AGE MARITAL_STATUS    PROFESSION  IS_TENT          PRODUCT_LINE  \\\n",
       "0      M   27         Single  Professional     True     Camping Equipment   \n",
       "1      F   39        Married         Other    False    Outdoor Protection   \n",
       "2      F   39        Married         Other    False    Outdoor Protection   \n",
       "3      F   56    Unspecified   Hospitality    False  Personal Accessories   \n",
       "4      M   45        Married       Retired    False        Golf Equipment   \n",
       "\n",
       "   PURCHASE_AMOUNT  \n",
       "0           144.78  \n",
       "1           144.83  \n",
       "2           137.37  \n",
       "3            92.61  \n",
       "4           119.04  "
      ]
     },
     "execution_count": 4,
     "metadata": {},
     "output_type": "execute_result"
    }
   ],
   "source": [
    "# Read sample data into a pandas DataFrame\n",
    "import pandas as pd\n",
    "df = pd.read_csv( filename )\n",
    "df[0:5]"
   ]
  },
  {
   "cell_type": "code",
   "execution_count": 5,
   "metadata": {},
   "outputs": [
    {
     "name": "stdout",
     "output_type": "stream",
     "text": [
      "  GENDER  AGE MARITAL_STATUS    PROFESSION  IS_TENT\n",
      "0      M   27         Single  Professional     True\n",
      "1      F   39        Married         Other    False\n",
      "2      F   39        Married         Other    False\n",
      "3      F   56    Unspecified   Hospitality    False\n",
      "4      M   45        Married       Retired    False\n"
     ]
    }
   ],
   "source": [
    "# Select columns of interest\n",
    "training_data = df[[\"GENDER\",\"AGE\",\"MARITAL_STATUS\",\"PROFESSION\",\"IS_TENT\"]].copy()\n",
    "print( training_data[0:5] )"
   ]
  },
  {
   "cell_type": "code",
   "execution_count": 6,
   "metadata": {},
   "outputs": [
    {
     "name": "stdout",
     "output_type": "stream",
     "text": [
      "le_GENDER:\n",
      "[[0 'F']\n",
      " [1 'M']]\n",
      "\n",
      "le_MARITAL_STATUS:\n",
      "[[0 'Married']\n",
      " [1 'Single']\n",
      " [2 'Unspecified']]\n",
      "\n",
      "le_PROFESSION:\n",
      "[[0 'Executive']\n",
      " [1 'Hospitality']\n",
      " [2 'Other']\n",
      " [3 'Professional']\n",
      " [4 'Retail']\n",
      " [5 'Retired']\n",
      " [6 'Sales']\n",
      " [7 'Student']\n",
      " [8 'Trades']]\n"
     ]
    }
   ],
   "source": [
    "# Create label encoders for string columns\n",
    "from sklearn.preprocessing import LabelEncoder\n",
    "import numpy as np\n",
    "le_GENDER = LabelEncoder().fit( training_data[\"GENDER\"] )\n",
    "le_MARITAL_STATUS = LabelEncoder().fit( training_data[\"MARITAL_STATUS\"] )\n",
    "le_PROFESSION = LabelEncoder().fit( training_data[\"PROFESSION\"] )\n",
    "\n",
    "print( \"le_GENDER:\" )\n",
    "print( np.sort( np.array( [ le_GENDER.transform(le_GENDER.classes_), le_GENDER.classes_ ] ).T, axis=0 ) )\n",
    "print( \"\\nle_MARITAL_STATUS:\" )\n",
    "print( np.sort( np.array( [ le_MARITAL_STATUS.transform(le_MARITAL_STATUS.classes_), le_MARITAL_STATUS.classes_ ] ).T, axis=0 ) )\n",
    "print( \"\\nle_PROFESSION:\" )\n",
    "print( np.sort( np.array( [ le_PROFESSION.transform(le_PROFESSION.classes_), le_PROFESSION.classes_ ] ).T, axis=0 ) )"
   ]
  },
  {
   "cell_type": "code",
   "execution_count": 7,
   "metadata": {},
   "outputs": [
    {
     "data": {
      "text/html": [
       "<div>\n",
       "<style scoped>\n",
       "    .dataframe tbody tr th:only-of-type {\n",
       "        vertical-align: middle;\n",
       "    }\n",
       "\n",
       "    .dataframe tbody tr th {\n",
       "        vertical-align: top;\n",
       "    }\n",
       "\n",
       "    .dataframe thead th {\n",
       "        text-align: right;\n",
       "    }\n",
       "</style>\n",
       "<table border=\"1\" class=\"dataframe\">\n",
       "  <thead>\n",
       "    <tr style=\"text-align: right;\">\n",
       "      <th></th>\n",
       "      <th>GENDER</th>\n",
       "      <th>AGE</th>\n",
       "      <th>MARITAL_STATUS</th>\n",
       "      <th>PROFESSION</th>\n",
       "      <th>IS_TENT</th>\n",
       "      <th>GENDER_index</th>\n",
       "      <th>MARITAL_STATUS_index</th>\n",
       "      <th>PROFESSION_index</th>\n",
       "    </tr>\n",
       "  </thead>\n",
       "  <tbody>\n",
       "    <tr>\n",
       "      <th>0</th>\n",
       "      <td>M</td>\n",
       "      <td>27</td>\n",
       "      <td>Single</td>\n",
       "      <td>Professional</td>\n",
       "      <td>True</td>\n",
       "      <td>1</td>\n",
       "      <td>1</td>\n",
       "      <td>3</td>\n",
       "    </tr>\n",
       "    <tr>\n",
       "      <th>1</th>\n",
       "      <td>F</td>\n",
       "      <td>39</td>\n",
       "      <td>Married</td>\n",
       "      <td>Other</td>\n",
       "      <td>False</td>\n",
       "      <td>0</td>\n",
       "      <td>0</td>\n",
       "      <td>2</td>\n",
       "    </tr>\n",
       "    <tr>\n",
       "      <th>2</th>\n",
       "      <td>F</td>\n",
       "      <td>39</td>\n",
       "      <td>Married</td>\n",
       "      <td>Other</td>\n",
       "      <td>False</td>\n",
       "      <td>0</td>\n",
       "      <td>0</td>\n",
       "      <td>2</td>\n",
       "    </tr>\n",
       "    <tr>\n",
       "      <th>3</th>\n",
       "      <td>F</td>\n",
       "      <td>56</td>\n",
       "      <td>Unspecified</td>\n",
       "      <td>Hospitality</td>\n",
       "      <td>False</td>\n",
       "      <td>0</td>\n",
       "      <td>2</td>\n",
       "      <td>1</td>\n",
       "    </tr>\n",
       "    <tr>\n",
       "      <th>4</th>\n",
       "      <td>M</td>\n",
       "      <td>45</td>\n",
       "      <td>Married</td>\n",
       "      <td>Retired</td>\n",
       "      <td>False</td>\n",
       "      <td>1</td>\n",
       "      <td>0</td>\n",
       "      <td>5</td>\n",
       "    </tr>\n",
       "  </tbody>\n",
       "</table>\n",
       "</div>"
      ],
      "text/plain": [
       "  GENDER  AGE MARITAL_STATUS    PROFESSION  IS_TENT  GENDER_index  \\\n",
       "0      M   27         Single  Professional     True             1   \n",
       "1      F   39        Married         Other    False             0   \n",
       "2      F   39        Married         Other    False             0   \n",
       "3      F   56    Unspecified   Hospitality    False             0   \n",
       "4      M   45        Married       Retired    False             1   \n",
       "\n",
       "   MARITAL_STATUS_index  PROFESSION_index  \n",
       "0                     1                 3  \n",
       "1                     0                 2  \n",
       "2                     0                 2  \n",
       "3                     2                 1  \n",
       "4                     0                 5  "
      ]
     },
     "execution_count": 7,
     "metadata": {},
     "output_type": "execute_result"
    }
   ],
   "source": [
    "# Create encoded colums in the training data\n",
    "training_data[\"GENDER_index\"] = le_GENDER.transform( training_data[\"GENDER\"] )\n",
    "training_data[\"MARITAL_STATUS_index\"] = le_MARITAL_STATUS.transform( training_data[\"MARITAL_STATUS\"] )\n",
    "training_data[\"PROFESSION_index\"] = le_PROFESSION.transform( training_data[\"PROFESSION\"] )\n",
    "training_data[0:5]"
   ]
  },
  {
   "cell_type": "markdown",
   "metadata": {},
   "source": [
    "### <a id=\"trainmodel\"></a> 2. Create a logistic regression model and then train and evaluate the model"
   ]
  },
  {
   "cell_type": "code",
   "execution_count": 8,
   "metadata": {},
   "outputs": [],
   "source": [
    "!pip install git+https://github.com/jpmml/sklearn2pmml.git"
   ]
  },
  {
   "cell_type": "code",
   "execution_count": 9,
   "metadata": {},
   "outputs": [],
   "source": [
    "# Create a pipeline that can be saved in PMML format implementing a logistic regression model\n",
    "from sklearn2pmml.pipeline import PMMLPipeline\n",
    "from sklearn.linear_model import LogisticRegression\n",
    "pmml_pipeline = PMMLPipeline( [ (\"classifier\", LogisticRegression() ) ] )"
   ]
  },
  {
   "cell_type": "code",
   "execution_count": 10,
   "metadata": {},
   "outputs": [],
   "source": [
    "# Split the training data into a training set and a test set\n",
    "from sklearn.model_selection import train_test_split\n",
    "X_train, X_test, y_train, y_test = train_test_split( training_data[[ \"AGE\", \"GENDER_index\", \"MARITAL_STATUS_index\", \"PROFESSION_index\" ]], training_data[\"IS_TENT\"].astype(int) )"
   ]
  },
  {
   "cell_type": "code",
   "execution_count": 11,
   "metadata": {},
   "outputs": [
    {
     "data": {
      "text/plain": [
       "PMMLPipeline(steps=[('classifier', LogisticRegression(C=1.0, class_weight=None, dual=False, fit_intercept=True,\n",
       "          intercept_scaling=1, max_iter=100, multi_class='ovr', n_jobs=1,\n",
       "          penalty='l2', random_state=None, solver='liblinear', tol=0.0001,\n",
       "          verbose=0, warm_start=False))])"
      ]
     },
     "execution_count": 11,
     "metadata": {},
     "output_type": "execute_result"
    }
   ],
   "source": [
    "# Train the model\n",
    "pmml_pipeline.fit( X_train, y_train )"
   ]
  },
  {
   "cell_type": "code",
   "execution_count": 12,
   "metadata": {},
   "outputs": [
    {
     "name": "stdout",
     "output_type": "stream",
     "text": [
      "Success rate: 85.0%\n"
     ]
    }
   ],
   "source": [
    "# Evaluate the model performance\n",
    "predictions = pmml_pipeline.predict( X_test )\n",
    "num_correct = ( ( predictions == y_test.values ) == True ).sum()\n",
    "print( \"Success rate: \" + str( round( 100 * ( num_correct / len( predictions ) ) ) ) + \"%\" )"
   ]
  },
  {
   "cell_type": "code",
   "execution_count": 13,
   "metadata": {},
   "outputs": [
    {
     "data": {
      "text/html": [
       "<div>\n",
       "<style scoped>\n",
       "    .dataframe tbody tr th:only-of-type {\n",
       "        vertical-align: middle;\n",
       "    }\n",
       "\n",
       "    .dataframe tbody tr th {\n",
       "        vertical-align: top;\n",
       "    }\n",
       "\n",
       "    .dataframe thead th {\n",
       "        text-align: right;\n",
       "    }\n",
       "</style>\n",
       "<table border=\"1\" class=\"dataframe\">\n",
       "  <thead>\n",
       "    <tr style=\"text-align: right;\">\n",
       "      <th></th>\n",
       "      <th>GENDER</th>\n",
       "      <th>AGE</th>\n",
       "      <th>MARITAL_STATUS</th>\n",
       "      <th>PROFESSION</th>\n",
       "      <th>IS_TENT</th>\n",
       "      <th>PRODUCT_LINE</th>\n",
       "      <th>PURCHASE_AMOUNT</th>\n",
       "    </tr>\n",
       "  </thead>\n",
       "  <tbody>\n",
       "    <tr>\n",
       "      <th>13</th>\n",
       "      <td>F</td>\n",
       "      <td>35</td>\n",
       "      <td>Married</td>\n",
       "      <td>Professional</td>\n",
       "      <td>False</td>\n",
       "      <td>Golf Equipment</td>\n",
       "      <td>152.95</td>\n",
       "    </tr>\n",
       "    <tr>\n",
       "      <th>14</th>\n",
       "      <td>M</td>\n",
       "      <td>20</td>\n",
       "      <td>Single</td>\n",
       "      <td>Sales</td>\n",
       "      <td>True</td>\n",
       "      <td>Mountaineering Equipment</td>\n",
       "      <td>124.66</td>\n",
       "    </tr>\n",
       "  </tbody>\n",
       "</table>\n",
       "</div>"
      ],
      "text/plain": [
       "   GENDER  AGE MARITAL_STATUS    PROFESSION  IS_TENT  \\\n",
       "13      F   35        Married  Professional    False   \n",
       "14      M   20         Single         Sales     True   \n",
       "\n",
       "                PRODUCT_LINE  PURCHASE_AMOUNT  \n",
       "13            Golf Equipment           152.95  \n",
       "14  Mountaineering Equipment           124.66  "
      ]
     },
     "execution_count": 13,
     "metadata": {},
     "output_type": "execute_result"
    }
   ],
   "source": [
    "# Grab some example data for quick test\n",
    "df[13:15]"
   ]
  },
  {
   "cell_type": "code",
   "execution_count": 15,
   "metadata": {},
   "outputs": [
    {
     "name": "stdout",
     "output_type": "stream",
     "text": [
      "Negative_example_payload (did not buy a tent): [35, 0, 0, 3]\n"
     ]
    }
   ],
   "source": [
    "negative_example_payload = [ 35, le_GENDER.transform( [\"F\"] )[0], le_MARITAL_STATUS.transform( [\"Married\"] )[0], le_PROFESSION.transform( [\"Professional\"] )[0] ]\n",
    "print( \"Negative_example_payload (did not buy a tent): \" + str( negative_example_payload ) )"
   ]
  },
  {
   "cell_type": "code",
   "execution_count": 16,
   "metadata": {},
   "outputs": [
    {
     "data": {
      "text/plain": [
       "array([0])"
      ]
     },
     "execution_count": 16,
     "metadata": {},
     "output_type": "execute_result"
    }
   ],
   "source": [
    "pmml_pipeline.predict( [ negative_example_payload ] )"
   ]
  },
  {
   "cell_type": "code",
   "execution_count": 17,
   "metadata": {},
   "outputs": [
    {
     "name": "stdout",
     "output_type": "stream",
     "text": [
      "Positive_example payload (did buy a tent): [20, 1, 1, 6]\n"
     ]
    }
   ],
   "source": [
    "positive_example_payload = [ 20, le_GENDER.transform( [\"M\"] )[0], le_MARITAL_STATUS.transform( [\"Single\"] )[0], le_PROFESSION.transform( [\"Sales\"] )[0] ]\n",
    "print( \"Positive_example payload (did buy a tent): \" + str( positive_example_payload ) )"
   ]
  },
  {
   "cell_type": "code",
   "execution_count": 19,
   "metadata": {},
   "outputs": [
    {
     "data": {
      "text/plain": [
       "array([1])"
      ]
     },
     "execution_count": 19,
     "metadata": {},
     "output_type": "execute_result"
    }
   ],
   "source": [
    "pmml_pipeline.predict( [ positive_example_payload ] )"
   ]
  },
  {
   "cell_type": "markdown",
   "metadata": {},
   "source": [
    "### <a id=\"savemodel\"></a> 3. Save the model in PMML format"
   ]
  },
  {
   "cell_type": "code",
   "execution_count": 25,
   "metadata": {},
   "outputs": [],
   "source": [
    "# Save the model to a file in PMML format\n",
    "from sklearn2pmml import sklearn2pmml\n",
    "pmml_filename = \"scikit-learn-lr-model-pmml.xml\"\n",
    "sklearn2pmml( pmml_pipeline, pmml_filename )"
   ]
  },
  {
   "cell_type": "code",
   "execution_count": 26,
   "metadata": {},
   "outputs": [
    {
     "name": "stdout",
     "output_type": "stream",
     "text": [
      "<?xml version=\"1.0\" encoding=\"UTF-8\" standalone=\"yes\"?>\r\n",
      "<PMML xmlns=\"http://www.dmg.org/PMML-4_3\" xmlns:data=\"http://jpmml.org/jpmml-model/InlineTable\" version=\"4.3\">\r\n",
      "\t<Header>\r\n",
      "\t\t<Application name=\"JPMML-SkLearn\" version=\"1.5.10\"/>\r\n",
      "\t\t<Timestamp>2019-01-22T20:19:47Z</Timestamp>\r\n",
      "\t</Header>\r\n",
      "\t<DataDictionary>\r\n",
      "\t\t<DataField name=\"IS_TENT\" optype=\"categorical\" dataType=\"integer\">\r\n",
      "\t\t\t<Value value=\"0\"/>\r\n",
      "\t\t\t<Value value=\"1\"/>\r\n",
      "\t\t</DataField>\r\n",
      "\t\t<DataField name=\"AGE\" optype=\"continuous\" dataType=\"double\"/>\r\n",
      "\t\t<DataField name=\"GENDER_index\" optype=\"continuous\" dataType=\"double\"/>\r\n",
      "\t\t<DataField name=\"MARITAL_STATUS_index\" optype=\"continuous\" dataType=\"double\"/>\r\n",
      "\t\t<DataField name=\"PROFESSION_index\" optype=\"continuous\" dataType=\"double\"/>\r\n",
      "\t</DataDictionary>\r\n",
      "\t<RegressionModel functionName=\"classification\" normalizationMethod=\"logit\">\r\n",
      "\t\t<MiningSchema>\r\n",
      "\t\t\t<MiningField name=\"IS_TENT\" usageType=\"target\"/>\r\n",
      "\t\t\t<MiningField name=\"AGE\"/>\r\n",
      "\t\t\t<MiningField name=\"GENDER_index\"/>\r\n",
      "\t\t\t<MiningField name=\"MARITAL_STATUS_index\"/>\r\n",
      "\t\t\t<MiningField name=\"PROFESSION_index\"/>\r\n",
      "\t\t</MiningSchema>\r\n",
      "\t\t<Output>\r\n",
      "\t\t\t<OutputField name=\"probability(0)\" optype=\"continuous\" dataType=\"double\" feature=\"probability\" value=\"0\"/>\r\n",
      "\t\t\t<OutputField name=\"probability(1)\" optype=\"continuous\" dataType=\"double\" feature=\"probability\" value=\"1\"/>\r\n",
      "\t\t</Output>\r\n",
      "\t\t<RegressionTable intercept=\"1.4171429996653069\" targetCategory=\"1\">\r\n",
      "\t\t\t<NumericPredictor name=\"AGE\" coefficient=\"-0.1616202747342271\"/>\r\n",
      "\t\t\t<NumericPredictor name=\"GENDER_index\" coefficient=\"1.0439506409149424\"/>\r\n",
      "\t\t\t<NumericPredictor name=\"MARITAL_STATUS_index\" coefficient=\"-0.5914889300044666\"/>\r\n",
      "\t\t\t<NumericPredictor name=\"PROFESSION_index\" coefficient=\"0.605805239313119\"/>\r\n",
      "\t\t</RegressionTable>\r\n",
      "\t\t<RegressionTable intercept=\"0.0\" targetCategory=\"0\"/>\r\n",
      "\t</RegressionModel>\r\n",
      "</PMML>\r\n"
     ]
    }
   ],
   "source": [
    "!cat scikit-learn-lr-model-pmml.xml"
   ]
  },
  {
   "cell_type": "markdown",
   "metadata": {},
   "source": [
    "**Tip**\n",
    "\n",
    "You can use your mouse to highlight-copy the PMML content from running the previous cell, then paste the content into a text editor on your local computer, and then save the file on your local computer as \"scikit-learn-lr-model-pmml.xml\""
   ]
  },
  {
   "cell_type": "code",
   "execution_count": null,
   "metadata": {},
   "outputs": [],
   "source": []
  },
  {
   "cell_type": "markdown",
   "metadata": {},
   "source": [
    "## Summary and next steps\n",
    "In this notebook, you created a logistic regression model using scikit-learn and then saved the model to a file in PMML format.\n",
    "\n",
    "To learn how you can import this model into Watson Machine Learning, see:\n",
    "<a href=\"https://dataplatform.cloud.ibm.com/docs/content/analyze-data/ml-import-pmml.html\" target=\"_blank\" rel=\"noopener noreferrer\">Importing models into Watson Machine Learning from PMML</a>"
   ]
  },
  {
   "cell_type": "markdown",
   "metadata": {},
   "source": [
    "### <a id=\"authors\"></a>Authors\n",
    "\n",
    "**Sarah Packowski** is a member of the IBM Watson Studio Content Design team in Canada."
   ]
  },
  {
   "cell_type": "markdown",
   "metadata": {},
   "source": [
    "\n",
    "<hr>\n",
    "Copyright &copy; IBM Corp. 2019. This notebook and its source code are released under the terms of the MIT License."
   ]
  },
  {
   "cell_type": "markdown",
   "metadata": {},
   "source": [
    "<div style=\"background:#F5F7FA; height:110px; padding: 2em; font-size:14px;\">\n",
    "<span style=\"font-size:18px;color:#152935;\">Love this notebook? </span>\n",
    "<span style=\"font-size:15px;color:#152935;float:right;margin-right:40px;\">Don't have an account yet?</span><br>\n",
    "<span style=\"color:#5A6872;\">Share it with your colleagues and help them discover the power of Watson Studio!</span>\n",
    "<span style=\"border: 1px solid #3d70b2;padding:8px;float:right;margin-right:40px; color:#3d70b2;\"><a href=\"https://ibm.co/wsnotebooks\" target=\"_blank\" style=\"color: #3d70b2;text-decoration: none;\">Sign Up</a></span><br>\n",
    "</div>"
   ]
  },
  {
   "cell_type": "code",
   "execution_count": null,
   "metadata": {},
   "outputs": [],
   "source": []
  }
 ],
 "metadata": {
  "kernelspec": {
   "display_name": "Python 3.5",
   "language": "python",
   "name": "python3"
  },
  "language_info": {
   "codemirror_mode": {
    "name": "ipython",
    "version": 3
   },
   "file_extension": ".py",
   "mimetype": "text/x-python",
   "name": "python",
   "nbconvert_exporter": "python",
   "pygments_lexer": "ipython3",
   "version": "3.5.5"
  }
 },
 "nbformat": 4,
 "nbformat_minor": 1
}
